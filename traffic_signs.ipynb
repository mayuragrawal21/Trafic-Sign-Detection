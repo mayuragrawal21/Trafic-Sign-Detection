{
 "cells": [
  {
   "cell_type": "code",
   "execution_count": 1,
   "id": "4aa44937",
   "metadata": {},
   "outputs": [],
   "source": [
    "import numpy as np \n",
    "import pandas as pd \n",
    "import matplotlib.pyplot as plt\n",
    "import cv2\n",
    "import tensorflow as tf\n",
    "from PIL import Image\n",
    "import os\n",
    "from sklearn.model_selection import train_test_split\n",
    "from tensorflow.keras.utils import to_categorical\n",
    "from keras.models import Sequential, load_model\n",
    "from keras.layers import Conv2D, MaxPool2D, Dense, Flatten, Dropout\n",
    "\n",
    "data = []\n",
    "labels = []\n",
    "classes = 43\n",
    "cur_path = os.getcwd()\n",
    "\n",
    "#Retrieving the images and their labels \n",
    "for i in range(classes):\n",
    "    path = os.path.join(cur_path,'train',str(i))\n",
    "    images = os.listdir(path)\n",
    "\n",
    "    for a in images:\n",
    "        try:\n",
    "            image = Image.open(path + '\\\\'+ a)\n",
    "            image = image.resize((30,30))\n",
    "            image = np.array(image)\n",
    "            #sim = Image.fromarray(image)\n",
    "            data.append(image)\n",
    "            labels.append(i)\n",
    "        except:\n",
    "            print(\"Error loading image\")\n",
    "\n",
    "#Converting lists into numpy arrays\n",
    "data = np.array(data)\n",
    "labels = np.array(labels)"
   ]
  },
  {
   "cell_type": "code",
   "execution_count": 2,
   "id": "79e6b1a4",
   "metadata": {},
   "outputs": [
    {
     "name": "stdout",
     "output_type": "stream",
     "text": [
      "(39209, 30, 30, 3) (39209,)\n",
      "(31367, 30, 30, 3) (7842, 30, 30, 3) (31367,) (7842,)\n"
     ]
    }
   ],
   "source": [
    "print(data.shape, labels.shape)\n",
    "#Splitting training and testing dataset\n",
    "X_train, X_test, y_train, y_test = train_test_split(data, labels, test_size=0.2, random_state=42)\n",
    "print(X_train.shape, X_test.shape, y_train.shape, y_test.shape)\n",
    "#Converting the labels into one hot encoding\n",
    "y_train = to_categorical(y_train, 43)\n",
    "y_test = to_categorical(y_test, 43)"
   ]
  },
  {
   "cell_type": "code",
   "execution_count": 3,
   "id": "e878ff2a",
   "metadata": {},
   "outputs": [],
   "source": [
    "model = Sequential()\n",
    "model.add(Conv2D(filters=32, kernel_size=(5,5), activation='relu', input_shape=X_train.shape[1:]))\n",
    "model.add(Conv2D(filters=32, kernel_size=(5,5), activation='relu'))\n",
    "model.add(MaxPool2D(pool_size=(2, 2)))\n",
    "model.add(Dropout(rate=0.25))\n",
    "model.add(Conv2D(filters=64, kernel_size=(3, 3), activation='relu'))\n",
    "model.add(Conv2D(filters=64, kernel_size=(3, 3), activation='relu'))\n",
    "model.add(MaxPool2D(pool_size=(2, 2)))\n",
    "model.add(Dropout(rate=0.25))\n",
    "model.add(Flatten())\n",
    "model.add(Dense(256, activation='relu'))\n",
    "model.add(Dropout(rate=0.5))\n",
    "model.add(Dense(43, activation='softmax'))\n",
    "#Compilation of the model\n",
    "model.compile(loss='categorical_crossentropy', optimizer='adam', metrics=['accuracy'])"
   ]
  },
  {
   "cell_type": "code",
   "execution_count": 4,
   "id": "9bd6ccae",
   "metadata": {},
   "outputs": [
    {
     "name": "stdout",
     "output_type": "stream",
     "text": [
      "Epoch 1/15\n",
      "981/981 [==============================] - 67s 68ms/step - loss: 2.0498 - accuracy: 0.4732 - val_loss: 0.7809 - val_accuracy: 0.7749\n",
      "Epoch 2/15\n",
      "981/981 [==============================] - 64s 66ms/step - loss: 0.9774 - accuracy: 0.7107 - val_loss: 0.4168 - val_accuracy: 0.8945\n",
      "Epoch 3/15\n",
      "981/981 [==============================] - 62s 63ms/step - loss: 0.6725 - accuracy: 0.7946 - val_loss: 0.2515 - val_accuracy: 0.9278\n",
      "Epoch 4/15\n",
      "981/981 [==============================] - 67s 68ms/step - loss: 0.5046 - accuracy: 0.8471 - val_loss: 0.2231 - val_accuracy: 0.9300\n",
      "Epoch 5/15\n",
      "981/981 [==============================] - 66s 67ms/step - loss: 0.4239 - accuracy: 0.8722 - val_loss: 0.1684 - val_accuracy: 0.9508\n",
      "Epoch 6/15\n",
      "981/981 [==============================] - 64s 65ms/step - loss: 0.3685 - accuracy: 0.8881 - val_loss: 0.1234 - val_accuracy: 0.9653\n",
      "Epoch 7/15\n",
      "981/981 [==============================] - 63s 65ms/step - loss: 0.3557 - accuracy: 0.8955 - val_loss: 0.1139 - val_accuracy: 0.9654\n",
      "Epoch 8/15\n",
      "981/981 [==============================] - 66s 67ms/step - loss: 0.3354 - accuracy: 0.9020 - val_loss: 0.1069 - val_accuracy: 0.9690\n",
      "Epoch 9/15\n",
      "981/981 [==============================] - 70s 71ms/step - loss: 0.3137 - accuracy: 0.9072 - val_loss: 0.1171 - val_accuracy: 0.9661\n",
      "Epoch 10/15\n",
      "981/981 [==============================] - 71s 72ms/step - loss: 0.3043 - accuracy: 0.9117 - val_loss: 0.1037 - val_accuracy: 0.9690\n",
      "Epoch 11/15\n",
      "981/981 [==============================] - 76s 77ms/step - loss: 0.2945 - accuracy: 0.9129 - val_loss: 0.0932 - val_accuracy: 0.9745\n",
      "Epoch 12/15\n",
      "981/981 [==============================] - 68s 69ms/step - loss: 0.2863 - accuracy: 0.9198 - val_loss: 0.0783 - val_accuracy: 0.9769\n",
      "Epoch 13/15\n",
      "981/981 [==============================] - 64s 65ms/step - loss: 0.2913 - accuracy: 0.9167 - val_loss: 0.1146 - val_accuracy: 0.9680\n",
      "Epoch 14/15\n",
      "981/981 [==============================] - 63s 65ms/step - loss: 0.2637 - accuracy: 0.9232 - val_loss: 0.0894 - val_accuracy: 0.9732\n",
      "Epoch 15/15\n",
      "981/981 [==============================] - 64s 66ms/step - loss: 0.2693 - accuracy: 0.9226 - val_loss: 0.0820 - val_accuracy: 0.9756\n"
     ]
    }
   ],
   "source": [
    "epochs = 15\n",
    "history = model.fit(X_train, y_train, batch_size=32, epochs=epochs, validation_data=(X_test, y_test))"
   ]
  },
  {
   "cell_type": "code",
   "execution_count": 5,
   "id": "69d185ef",
   "metadata": {},
   "outputs": [
    {
     "data": {
      "image/png": "[encoded data removed]",
      "text/plain": [
       "<Figure size 432x288 with 1 Axes>"
      ]
     },
     "metadata": {
      "needs_background": "light"
     },
     "output_type": "display_data"
    },
    {
     "data": {
      "image/png": "[encoded data removed]",
      "text/plain": [
       "<Figure size 432x288 with 1 Axes>"
      ]
     },
     "metadata": {
      "needs_background": "light"
     },
     "output_type": "display_data"
    }
   ],
   "source": [
    "plt.figure(0)\n",
    "plt.plot(history.history['accuracy'], label='training accuracy')\n",
    "plt.plot(history.history['val_accuracy'], label='val accuracy')\n",
    "plt.title('Accuracy')\n",
    "plt.xlabel('epochs')\n",
    "plt.ylabel('accuracy')\n",
    "plt.legend()\n",
    "plt.show()\n",
    "plt.figure(1)\n",
    "plt.plot(history.history['loss'], label='training loss')\n",
    "plt.plot(history.history['val_loss'], label='val loss')\n",
    "plt.title('Loss')\n",
    "plt.xlabel('epochs')\n",
    "plt.ylabel('loss')\n",
    "plt.legend()\n",
    "plt.show()"
   ]
  },
  {
   "cell_type": "code",
   "execution_count": 6,
   "id": "fc42474d",
   "metadata": {},
   "outputs": [
    {
     "name": "stdout",
     "output_type": "stream",
     "text": [
      "0.930720506730008\n"
     ]
    }
   ],
   "source": [
    "from sklearn.metrics import accuracy_score\n",
    "y_test = pd.read_csv('Test.csv')\n",
    "labels = y_test[\"ClassId\"].values\n",
    "imgs = y_test[\"Path\"].values\n",
    "data=[]\n",
    "for img in imgs:\n",
    "    image = Image.open(img)\n",
    "    image = image.resize((30,30))\n",
    "    data.append(np.array(image))\n",
    "X_test=np.array(data)\n",
    "predict_x=model.predict(X_test) \n",
    "classes_x=np.argmax(predict_x,axis=1)\n",
    "#Accuracy with the test data\n",
    "from sklearn.metrics import accuracy_score\n",
    "print(accuracy_score(labels, classes_x))"
   ]
  },
  {
   "cell_type": "code",
   "execution_count": 7,
   "id": "753a2381",
   "metadata": {},
   "outputs": [],
   "source": [
    "model.save(\"traffic_classifier.h5\")"
   ]
  }
 ],
 "metadata": {
  "kernelspec": {
   "display_name": "Python 3",
   "language": "python",
   "name": "python3"
  },
  "language_info": {
   "codemirror_mode": {
    "name": "ipython",
    "version": 3
   },
   "file_extension": ".py",
   "mimetype": "text/x-python",
   "name": "python",
   "nbconvert_exporter": "python",
   "pygments_lexer": "ipython3",
   "version": "3.9.0"
  }
 },
 "nbformat": 4,
 "nbformat_minor": 5
}
